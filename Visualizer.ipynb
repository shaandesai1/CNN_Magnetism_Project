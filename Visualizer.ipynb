{
 "cells": [
  {
   "cell_type": "code",
   "execution_count": null,
   "metadata": {
    "collapsed": true
   },
   "outputs": [],
   "source": [
    "# import libraries\n",
    "import numpy as np\n",
    "import pickle\n",
    "import os\n",
    "import pandas as pd\n",
    "import matplotlib.pyplot as plt \n",
    "from ase.calculators.vasp import VaspChargeDensity\n",
    "%matplotlib inline\n",
    "import tqdm\n",
    "from charge_functions import channels\n",
    "from charge_functions import *\n",
    "from __future__ import print_function\n",
    "import keras\n",
    "from keras.datasets import mnist\n",
    "from keras.models import Sequential\n",
    "from keras.layers import Dense, Activation, Conv2D, MaxPooling2D, Flatten, Conv3D,MaxPooling3D\n",
    "from keras.optimizers import SGD\n",
    "from keras import backend as K\n",
    "import seaborn as sns\n",
    "sns.set_style('white')\n",
    "\n"
   ]
  },
  {
   "cell_type": "code",
   "execution_count": null,
   "metadata": {
    "collapsed": true
   },
   "outputs": [],
   "source": [
    "# returns a compiled model\n",
    "# identical to the previous one\n",
    "model = load_model('my_model.h5')"
   ]
  },
  {
   "cell_type": "code",
   "execution_count": null,
   "metadata": {
    "collapsed": true
   },
   "outputs": [],
   "source": [
    "# Look at the weights of the first layer\n",
    "layer = model.layers[0]\n",
    "# this actually returns a list \n",
    "# first element is W\n",
    "# second element are all the biases b\n",
    "weights = layer.get_weights()\n",
    "# the weights are the number of pixels times the number of filters (hidden units)\n",
    "print(\"Shape of W\")\n",
    "print(weights[0].shape)"
   ]
  },
  {
   "cell_type": "code",
   "execution_count": null,
   "metadata": {
    "collapsed": true
   },
   "outputs": [],
   "source": [
    "# look at just the first filter\n",
    "w = weights[0][:,:,:,0,0]\n",
    "w = w.reshape((5,5))\n",
    "plt.imshow(w, cmap='gray')"
   ]
  },
  {
   "cell_type": "code",
   "execution_count": null,
   "metadata": {
    "collapsed": true
   },
   "outputs": [],
   "source": [
    "# make a figure for the first 25 filters\n",
    "filterTiles = np.array([])\n",
    "index = 0\n",
    "for i in range(4):\n",
    "    filterRow = []\n",
    "    for j in range(4):\n",
    "        w = weights[0][:,:,1,index]\n",
    "        w = w.reshape(5,5)\n",
    "        w = w-np.min(w)\n",
    "        w = w / np.max(w)\n",
    "        filterRow.extend(w)\n",
    "        index+=1\n",
    "    filterRow = np.array(filterRow)\n",
    "    if not filterTiles.shape[0] == 0:\n",
    "        filterTiles = np.hstack([filterTiles, filterRow])\n",
    "    else:\n",
    "        filterTiles = filterRow\n",
    "\n",
    "plt.imshow(filterTiles, cmap='gray')    \n",
    "plt.show()"
   ]
  },
  {
   "cell_type": "code",
   "execution_count": null,
   "metadata": {
    "collapsed": true
   },
   "outputs": [],
   "source": [
    "# make a figure for the first 25 filters\n",
    "plt.figure(figsize=(9,9))\n",
    "index = 0\n",
    "for i in range(4):\n",
    "    for j in range(4):\n",
    "        w = weights[0][:,:,0,0,0]\n",
    "        w = w.reshape(5,5)\n",
    "        index+=1\n",
    "        plt.subplot(4,4,index)\n",
    "        plt.imshow(w, cmap='gray')    \n",
    "\n",
    "plt.show()"
   ]
  }
 ],
 "metadata": {
  "kernelspec": {
   "display_name": "Python 3",
   "language": "python",
   "name": "python3"
  },
  "language_info": {
   "codemirror_mode": {
    "name": "ipython",
    "version": 3
   },
   "file_extension": ".py",
   "mimetype": "text/x-python",
   "name": "python",
   "nbconvert_exporter": "python",
   "pygments_lexer": "ipython3",
   "version": "3.6.4"
  }
 },
 "nbformat": 4,
 "nbformat_minor": 2
}
