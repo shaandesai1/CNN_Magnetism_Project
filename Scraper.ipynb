{
 "cells": [
  {
   "cell_type": "code",
   "execution_count": 1,
   "metadata": {
    "collapsed": false
   },
   "outputs": [
    {
     "name": "stderr",
     "output_type": "stream",
     "text": [
      "C:\\Users\\Shaan Desai\\Anaconda3\\lib\\site-packages\\h5py\\__init__.py:36: FutureWarning: Conversion of the second argument of issubdtype from `float` to `np.floating` is deprecated. In future, it will be treated as `np.float64 == np.dtype(float).type`.\n",
      "  from ._conv import register_converters as _register_converters\n",
      "Using TensorFlow backend.\n"
     ]
    }
   ],
   "source": [
    "# import libraries\n",
    "import numpy as np\n",
    "import pickle\n",
    "import os\n",
    "import pandas as pd\n",
    "import matplotlib.pyplot as plt \n",
    "from ase.calculators.vasp import VaspChargeDensity\n",
    "%matplotlib inline\n",
    "import tqdm\n",
    "from charge_functions import channels\n",
    "from charge_functions import *\n",
    "from __future__ import print_function\n",
    "import keras\n",
    "from keras.datasets import mnist\n",
    "from keras.models import Sequential\n",
    "from keras.layers import Dense, Activation, Conv2D, MaxPooling2D, Flatten, Conv3D,MaxPooling3D\n",
    "from keras.optimizers import SGD\n",
    "from keras import backend as K\n",
    "import seaborn as sns\n",
    "sns.set_style('white')\n",
    "\n"
   ]
  },
  {
   "cell_type": "code",
   "execution_count": 2,
   "metadata": {
    "collapsed": true
   },
   "outputs": [],
   "source": [
    "def load_chgcar():\n",
    "    \"\"\" convert magnetic density into charge matrix and store in new folder \"\"\"\n",
    "    #from ase.calculators.vasp import VaspChargeDensity\n",
    "    chg_ext = os.getcwd()+'/'+'Magnetic_Densities'\n",
    "    chg_files = os.listdir(chg_ext)\n",
    "    # dst_ext = '/Users/trevorrhone/Documents/Kaxiras/2DML/Spin_density/chg_matrices'\n",
    "    dst_ext = os.getcwd()+'/'+'chg_matrices'\n",
    "    N = len(chg_files)\n",
    "    for cth, chgcar_file in enumerate(chg_files):\n",
    "        #chgcar_file = chg_files[0]\n",
    "        if cth < N:\n",
    "            print(chgcar_file)\n",
    "            main_dir = os.getcwd()\n",
    "            chgcar_file_ext = os.path.join(chg_ext, chgcar_file)\n",
    "            saved_file_ext = os.path.join(dst_ext, chgcar_file)\n",
    "            print('chgcar_file_ext',chgcar_file_ext)\n",
    "            if not os.path.exists(saved_file_ext):\n",
    "                print('get chgcar data: ')\n",
    "                # print(chgcar_file_ext)\n",
    "                C = VaspChargeDensity(chgcar_file_ext)\n",
    "                charge = C.chg\n",
    "                charge = np.array(charge)\n",
    "                os.chdir(dst_ext)\n",
    "                pickle.dump( charge, open( chgcar_file, \"wb\" ) )\n",
    "            else:\n",
    "                print('loading pickled file', chgcar_file)\n",
    "                os.chdir(dst_ext)\n",
    "                charge = pickle.load( open( chgcar_file, \"rb\" ) )\n",
    "            os.chdir(main_dir)\n",
    "    return "
   ]
  },
  {
   "cell_type": "code",
   "execution_count": 3,
   "metadata": {
    "collapsed": false
   },
   "outputs": [
    {
     "data": {
      "text/html": [
       "<div>\n",
       "<table border=\"1\" class=\"dataframe\">\n",
       "  <thead>\n",
       "    <tr style=\"text-align: right;\">\n",
       "      <th></th>\n",
       "      <th>formula</th>\n",
       "      <th>mag_mom</th>\n",
       "    </tr>\n",
       "  </thead>\n",
       "  <tbody>\n",
       "    <tr>\n",
       "      <th>0</th>\n",
       "      <td>V1Cr1Si1Ge1Te6</td>\n",
       "      <td>5.0532</td>\n",
       "    </tr>\n",
       "    <tr>\n",
       "      <th>1</th>\n",
       "      <td>Mn1Cr1Ge2Te6</td>\n",
       "      <td>6.8412</td>\n",
       "    </tr>\n",
       "    <tr>\n",
       "      <th>2</th>\n",
       "      <td>Mn1Cr1Si1Te6P1</td>\n",
       "      <td>6.3445</td>\n",
       "    </tr>\n",
       "    <tr>\n",
       "      <th>3</th>\n",
       "      <td>Nb1Cr1Ge2Te6</td>\n",
       "      <td>4.1377</td>\n",
       "    </tr>\n",
       "    <tr>\n",
       "      <th>4</th>\n",
       "      <td>Cr1Fe1Te6P2</td>\n",
       "      <td>5.9873</td>\n",
       "    </tr>\n",
       "  </tbody>\n",
       "</table>\n",
       "</div>"
      ],
      "text/plain": [
       "          formula  mag_mom\n",
       "0  V1Cr1Si1Ge1Te6   5.0532\n",
       "1    Mn1Cr1Ge2Te6   6.8412\n",
       "2  Mn1Cr1Si1Te6P1   6.3445\n",
       "3    Nb1Cr1Ge2Te6   4.1377\n",
       "4     Cr1Fe1Te6P2   5.9873"
      ]
     },
     "execution_count": 3,
     "metadata": {},
     "output_type": "execute_result"
    }
   ],
   "source": [
    "# main_dir is the folder where this ipython notebook is placed\n",
    "# = '/Users/trevorrhone/Documents/Kaxiras/2DML/Spin_density/'\n",
    "main_dir = os.getcwd()\n",
    "sub_dir = main_dir \n",
    "targetfile = sub_dir+'/'+ 'magmom_results_spin_so_Te.csv'\n",
    "df_mag = pd.read_csv(targetfile, sep=',',usecols=[1,2])\n",
    "df_mag.head()"
   ]
  },
  {
   "cell_type": "code",
   "execution_count": 4,
   "metadata": {
    "collapsed": false
   },
   "outputs": [
    {
     "name": "stdout",
     "output_type": "stream",
     "text": [
      "(1, 60, 60, 336)\n"
     ]
    }
   ],
   "source": [
    "picklefile = 'chg_matrix.npy'\n",
    "spin_data = np.load('chg_matrix.npy')\n",
    "print(spin_data.shape)"
   ]
  },
  {
   "cell_type": "code",
   "execution_count": 5,
   "metadata": {
    "collapsed": false
   },
   "outputs": [
    {
     "name": "stdout",
     "output_type": "stream",
     "text": [
      "mag_density_Cr1Co1Ge1Te6P1_spin_so\n",
      "chgcar_file_ext C:\\Users\\Shaan Desai\\Desktop\\AC299r/Magnetic_Densities\\mag_density_Cr1Co1Ge1Te6P1_spin_so\n",
      "loading pickled file mag_density_Cr1Co1Ge1Te6P1_spin_so\n",
      "mag_density_Cr1Co1Ge2Te6_spin_so\n",
      "chgcar_file_ext C:\\Users\\Shaan Desai\\Desktop\\AC299r/Magnetic_Densities\\mag_density_Cr1Co1Ge2Te6_spin_so\n",
      "loading pickled file mag_density_Cr1Co1Ge2Te6_spin_so\n",
      "mag_density_Cr1Co1Si1Ge1Te6_spin_so\n",
      "chgcar_file_ext C:\\Users\\Shaan Desai\\Desktop\\AC299r/Magnetic_Densities\\mag_density_Cr1Co1Si1Ge1Te6_spin_so\n",
      "loading pickled file mag_density_Cr1Co1Si1Ge1Te6_spin_so\n",
      "mag_density_Cr1Co1Si1Te6P1_spin_so\n",
      "chgcar_file_ext C:\\Users\\Shaan Desai\\Desktop\\AC299r/Magnetic_Densities\\mag_density_Cr1Co1Si1Te6P1_spin_so\n",
      "loading pickled file mag_density_Cr1Co1Si1Te6P1_spin_so\n",
      "mag_density_Cr1Co1Si2Te6_spin_so\n",
      "chgcar_file_ext C:\\Users\\Shaan Desai\\Desktop\\AC299r/Magnetic_Densities\\mag_density_Cr1Co1Si2Te6_spin_so\n",
      "loading pickled file mag_density_Cr1Co1Si2Te6_spin_so\n",
      "mag_density_Cr1Co1Te6P2_spin_so\n",
      "chgcar_file_ext C:\\Users\\Shaan Desai\\Desktop\\AC299r/Magnetic_Densities\\mag_density_Cr1Co1Te6P2_spin_so\n",
      "loading pickled file mag_density_Cr1Co1Te6P2_spin_so\n",
      "mag_density_Cr1Cu1Ge1Te6P1_spin_so\n",
      "chgcar_file_ext C:\\Users\\Shaan Desai\\Desktop\\AC299r/Magnetic_Densities\\mag_density_Cr1Cu1Ge1Te6P1_spin_so\n",
      "loading pickled file mag_density_Cr1Cu1Ge1Te6P1_spin_so\n",
      "mag_density_Cr1Cu1Ge2Te6_spin_so\n",
      "chgcar_file_ext C:\\Users\\Shaan Desai\\Desktop\\AC299r/Magnetic_Densities\\mag_density_Cr1Cu1Ge2Te6_spin_so\n",
      "loading pickled file mag_density_Cr1Cu1Ge2Te6_spin_so\n",
      "mag_density_Cr1Cu1Si1Ge1Te6_spin_so\n",
      "chgcar_file_ext C:\\Users\\Shaan Desai\\Desktop\\AC299r/Magnetic_Densities\\mag_density_Cr1Cu1Si1Ge1Te6_spin_so\n",
      "loading pickled file mag_density_Cr1Cu1Si1Ge1Te6_spin_so\n",
      "mag_density_Cr1Cu1Si1Te6P1_spin_so\n",
      "chgcar_file_ext C:\\Users\\Shaan Desai\\Desktop\\AC299r/Magnetic_Densities\\mag_density_Cr1Cu1Si1Te6P1_spin_so\n",
      "loading pickled file mag_density_Cr1Cu1Si1Te6P1_spin_so\n",
      "mag_density_Cr1Cu1Si2Te6_spin_so\n",
      "chgcar_file_ext C:\\Users\\Shaan Desai\\Desktop\\AC299r/Magnetic_Densities\\mag_density_Cr1Cu1Si2Te6_spin_so\n",
      "loading pickled file mag_density_Cr1Cu1Si2Te6_spin_so\n",
      "mag_density_Cr1Cu1Te6P2_spin_so\n",
      "chgcar_file_ext C:\\Users\\Shaan Desai\\Desktop\\AC299r/Magnetic_Densities\\mag_density_Cr1Cu1Te6P2_spin_so\n",
      "loading pickled file mag_density_Cr1Cu1Te6P2_spin_so\n",
      "mag_density_Cr1Fe1Ge1Te6P1_spin_so\n",
      "chgcar_file_ext C:\\Users\\Shaan Desai\\Desktop\\AC299r/Magnetic_Densities\\mag_density_Cr1Fe1Ge1Te6P1_spin_so\n",
      "loading pickled file mag_density_Cr1Fe1Ge1Te6P1_spin_so\n",
      "mag_density_Cr1Fe1Si1Ge1Te6_spin_so\n",
      "chgcar_file_ext C:\\Users\\Shaan Desai\\Desktop\\AC299r/Magnetic_Densities\\mag_density_Cr1Fe1Si1Ge1Te6_spin_so\n",
      "loading pickled file mag_density_Cr1Fe1Si1Ge1Te6_spin_so\n",
      "mag_density_Cr1Fe1Si1Te6P1_spin_so\n",
      "chgcar_file_ext C:\\Users\\Shaan Desai\\Desktop\\AC299r/Magnetic_Densities\\mag_density_Cr1Fe1Si1Te6P1_spin_so\n",
      "loading pickled file mag_density_Cr1Fe1Si1Te6P1_spin_so\n",
      "mag_density_Cr1Fe1Si2Te6_spin_so\n",
      "chgcar_file_ext C:\\Users\\Shaan Desai\\Desktop\\AC299r/Magnetic_Densities\\mag_density_Cr1Fe1Si2Te6_spin_so\n",
      "loading pickled file mag_density_Cr1Fe1Si2Te6_spin_so\n",
      "mag_density_Cr1Fe1Te6P2_spin_so\n",
      "chgcar_file_ext C:\\Users\\Shaan Desai\\Desktop\\AC299r/Magnetic_Densities\\mag_density_Cr1Fe1Te6P2_spin_so\n",
      "loading pickled file mag_density_Cr1Fe1Te6P2_spin_so\n",
      "mag_density_Cr1Ge1Te6P1Ru1_spin_so\n",
      "chgcar_file_ext C:\\Users\\Shaan Desai\\Desktop\\AC299r/Magnetic_Densities\\mag_density_Cr1Ge1Te6P1Ru1_spin_so\n",
      "loading pickled file mag_density_Cr1Ge1Te6P1Ru1_spin_so\n",
      "mag_density_Cr1Ge2Te6Ru1_spin_so\n",
      "chgcar_file_ext C:\\Users\\Shaan Desai\\Desktop\\AC299r/Magnetic_Densities\\mag_density_Cr1Ge2Te6Ru1_spin_so\n",
      "loading pickled file mag_density_Cr1Ge2Te6Ru1_spin_so\n",
      "mag_density_Cr1Ni1Ge1Te6P1_spin_so\n",
      "chgcar_file_ext C:\\Users\\Shaan Desai\\Desktop\\AC299r/Magnetic_Densities\\mag_density_Cr1Ni1Ge1Te6P1_spin_so\n",
      "loading pickled file mag_density_Cr1Ni1Ge1Te6P1_spin_so\n",
      "mag_density_Cr1Ni1Ge2Te6_spin_so\n",
      "chgcar_file_ext C:\\Users\\Shaan Desai\\Desktop\\AC299r/Magnetic_Densities\\mag_density_Cr1Ni1Ge2Te6_spin_so\n",
      "loading pickled file mag_density_Cr1Ni1Ge2Te6_spin_so\n",
      "mag_density_Cr1Ni1Te6P2_spin_so\n",
      "chgcar_file_ext C:\\Users\\Shaan Desai\\Desktop\\AC299r/Magnetic_Densities\\mag_density_Cr1Ni1Te6P2_spin_so\n",
      "loading pickled file mag_density_Cr1Ni1Te6P2_spin_so\n",
      "mag_density_Cr1Si1Ge1Te6Ru1_spin_so\n",
      "chgcar_file_ext C:\\Users\\Shaan Desai\\Desktop\\AC299r/Magnetic_Densities\\mag_density_Cr1Si1Ge1Te6Ru1_spin_so\n",
      "loading pickled file mag_density_Cr1Si1Ge1Te6Ru1_spin_so\n",
      "mag_density_Cr1Si1Ni1Ge1Te6_spin_so\n",
      "chgcar_file_ext C:\\Users\\Shaan Desai\\Desktop\\AC299r/Magnetic_Densities\\mag_density_Cr1Si1Ni1Ge1Te6_spin_so\n",
      "loading pickled file mag_density_Cr1Si1Ni1Ge1Te6_spin_so\n",
      "mag_density_Cr1Si1Ni1Te6P1_spin_so\n",
      "chgcar_file_ext C:\\Users\\Shaan Desai\\Desktop\\AC299r/Magnetic_Densities\\mag_density_Cr1Si1Ni1Te6P1_spin_so\n",
      "loading pickled file mag_density_Cr1Si1Ni1Te6P1_spin_so\n",
      "mag_density_Cr1Si1Te6P1Ru1_spin_so\n",
      "chgcar_file_ext C:\\Users\\Shaan Desai\\Desktop\\AC299r/Magnetic_Densities\\mag_density_Cr1Si1Te6P1Ru1_spin_so\n",
      "loading pickled file mag_density_Cr1Si1Te6P1Ru1_spin_so\n",
      "mag_density_Cr1Si2Ni1Te6_spin_so\n",
      "chgcar_file_ext C:\\Users\\Shaan Desai\\Desktop\\AC299r/Magnetic_Densities\\mag_density_Cr1Si2Ni1Te6_spin_so\n",
      "loading pickled file mag_density_Cr1Si2Ni1Te6_spin_so\n",
      "mag_density_Cr1Si2Te6Ru1_spin_so\n",
      "chgcar_file_ext C:\\Users\\Shaan Desai\\Desktop\\AC299r/Magnetic_Densities\\mag_density_Cr1Si2Te6Ru1_spin_so\n",
      "loading pickled file mag_density_Cr1Si2Te6Ru1_spin_so\n",
      "mag_density_Cr1Te6P2Ru1_spin_so\n",
      "chgcar_file_ext C:\\Users\\Shaan Desai\\Desktop\\AC299r/Magnetic_Densities\\mag_density_Cr1Te6P2Ru1_spin_so\n",
      "loading pickled file mag_density_Cr1Te6P2Ru1_spin_so\n",
      "mag_density_Cr2Ge1Te6P1_spin_so\n",
      "chgcar_file_ext C:\\Users\\Shaan Desai\\Desktop\\AC299r/Magnetic_Densities\\mag_density_Cr2Ge1Te6P1_spin_so\n",
      "loading pickled file mag_density_Cr2Ge1Te6P1_spin_so\n",
      "mag_density_Cr2Ge2Te6_spin_so\n",
      "chgcar_file_ext C:\\Users\\Shaan Desai\\Desktop\\AC299r/Magnetic_Densities\\mag_density_Cr2Ge2Te6_spin_so\n",
      "loading pickled file mag_density_Cr2Ge2Te6_spin_so\n",
      "mag_density_Cr2Si1Te6P1_spin_so\n",
      "chgcar_file_ext C:\\Users\\Shaan Desai\\Desktop\\AC299r/Magnetic_Densities\\mag_density_Cr2Si1Te6P1_spin_so\n",
      "loading pickled file mag_density_Cr2Si1Te6P1_spin_so\n",
      "mag_density_Cr2Si2Te6_spin_so\n",
      "chgcar_file_ext C:\\Users\\Shaan Desai\\Desktop\\AC299r/Magnetic_Densities\\mag_density_Cr2Si2Te6_spin_so\n",
      "loading pickled file mag_density_Cr2Si2Te6_spin_so\n",
      "mag_density_Cr2Te6P2_spin_so\n",
      "chgcar_file_ext C:\\Users\\Shaan Desai\\Desktop\\AC299r/Magnetic_Densities\\mag_density_Cr2Te6P2_spin_so\n",
      "loading pickled file mag_density_Cr2Te6P2_spin_so\n",
      "mag_density_Mn1Cr1Ge1Te6P1_spin_so\n",
      "chgcar_file_ext C:\\Users\\Shaan Desai\\Desktop\\AC299r/Magnetic_Densities\\mag_density_Mn1Cr1Ge1Te6P1_spin_so\n",
      "loading pickled file mag_density_Mn1Cr1Ge1Te6P1_spin_so\n",
      "mag_density_Mn1Cr1Ge2Te6_spin_so\n",
      "chgcar_file_ext C:\\Users\\Shaan Desai\\Desktop\\AC299r/Magnetic_Densities\\mag_density_Mn1Cr1Ge2Te6_spin_so\n",
      "loading pickled file mag_density_Mn1Cr1Ge2Te6_spin_so\n",
      "mag_density_Mn1Cr1Si1Ge1Te6_spin_so\n",
      "chgcar_file_ext C:\\Users\\Shaan Desai\\Desktop\\AC299r/Magnetic_Densities\\mag_density_Mn1Cr1Si1Ge1Te6_spin_so\n",
      "loading pickled file mag_density_Mn1Cr1Si1Ge1Te6_spin_so\n",
      "mag_density_Mn1Cr1Si1Te6P1_spin_so\n",
      "chgcar_file_ext C:\\Users\\Shaan Desai\\Desktop\\AC299r/Magnetic_Densities\\mag_density_Mn1Cr1Si1Te6P1_spin_so\n",
      "loading pickled file mag_density_Mn1Cr1Si1Te6P1_spin_so\n",
      "mag_density_Mn1Cr1Si2Te6_spin_so\n",
      "chgcar_file_ext C:\\Users\\Shaan Desai\\Desktop\\AC299r/Magnetic_Densities\\mag_density_Mn1Cr1Si2Te6_spin_so\n",
      "loading pickled file mag_density_Mn1Cr1Si2Te6_spin_so\n",
      "mag_density_Mn1Cr1Te6P2_spin_so\n",
      "chgcar_file_ext C:\\Users\\Shaan Desai\\Desktop\\AC299r/Magnetic_Densities\\mag_density_Mn1Cr1Te6P2_spin_so\n",
      "loading pickled file mag_density_Mn1Cr1Te6P2_spin_so\n",
      "mag_density_Nb1Cr1Ge1Te6P1_spin_so\n",
      "chgcar_file_ext C:\\Users\\Shaan Desai\\Desktop\\AC299r/Magnetic_Densities\\mag_density_Nb1Cr1Ge1Te6P1_spin_so\n",
      "loading pickled file mag_density_Nb1Cr1Ge1Te6P1_spin_so\n",
      "mag_density_Nb1Cr1Ge2Te6_spin_so\n",
      "chgcar_file_ext C:\\Users\\Shaan Desai\\Desktop\\AC299r/Magnetic_Densities\\mag_density_Nb1Cr1Ge2Te6_spin_so\n",
      "loading pickled file mag_density_Nb1Cr1Ge2Te6_spin_so\n",
      "mag_density_Nb1Cr1Si1Ge1Te6_spin_so\n",
      "chgcar_file_ext C:\\Users\\Shaan Desai\\Desktop\\AC299r/Magnetic_Densities\\mag_density_Nb1Cr1Si1Ge1Te6_spin_so\n",
      "loading pickled file mag_density_Nb1Cr1Si1Ge1Te6_spin_so\n",
      "mag_density_Nb1Cr1Si1Te6P1_spin_so\n",
      "chgcar_file_ext C:\\Users\\Shaan Desai\\Desktop\\AC299r/Magnetic_Densities\\mag_density_Nb1Cr1Si1Te6P1_spin_so\n",
      "loading pickled file mag_density_Nb1Cr1Si1Te6P1_spin_so\n",
      "mag_density_Nb1Cr1Si2Te6_spin_so\n",
      "chgcar_file_ext C:\\Users\\Shaan Desai\\Desktop\\AC299r/Magnetic_Densities\\mag_density_Nb1Cr1Si2Te6_spin_so\n",
      "loading pickled file mag_density_Nb1Cr1Si2Te6_spin_so\n",
      "mag_density_Nb1Cr1Te6P2_spin_so\n",
      "chgcar_file_ext C:\\Users\\Shaan Desai\\Desktop\\AC299r/Magnetic_Densities\\mag_density_Nb1Cr1Te6P2_spin_so\n",
      "loading pickled file mag_density_Nb1Cr1Te6P2_spin_so\n",
      "mag_density_Ti1Cr1Ge1Te6P1_spin_so\n",
      "chgcar_file_ext C:\\Users\\Shaan Desai\\Desktop\\AC299r/Magnetic_Densities\\mag_density_Ti1Cr1Ge1Te6P1_spin_so\n",
      "loading pickled file mag_density_Ti1Cr1Ge1Te6P1_spin_so\n",
      "mag_density_Ti1Cr1Ge2Te6_spin_so\n",
      "chgcar_file_ext C:\\Users\\Shaan Desai\\Desktop\\AC299r/Magnetic_Densities\\mag_density_Ti1Cr1Ge2Te6_spin_so\n",
      "loading pickled file mag_density_Ti1Cr1Ge2Te6_spin_so\n",
      "mag_density_Ti1Cr1Si1Ge1Te6_spin_so\n",
      "chgcar_file_ext C:\\Users\\Shaan Desai\\Desktop\\AC299r/Magnetic_Densities\\mag_density_Ti1Cr1Si1Ge1Te6_spin_so\n",
      "loading pickled file mag_density_Ti1Cr1Si1Ge1Te6_spin_so\n",
      "mag_density_Ti1Cr1Si1Te6P1_spin_so\n",
      "chgcar_file_ext C:\\Users\\Shaan Desai\\Desktop\\AC299r/Magnetic_Densities\\mag_density_Ti1Cr1Si1Te6P1_spin_so\n",
      "loading pickled file mag_density_Ti1Cr1Si1Te6P1_spin_so\n",
      "mag_density_Ti1Cr1Si2Te6_spin_so\n",
      "chgcar_file_ext C:\\Users\\Shaan Desai\\Desktop\\AC299r/Magnetic_Densities\\mag_density_Ti1Cr1Si2Te6_spin_so\n",
      "loading pickled file mag_density_Ti1Cr1Si2Te6_spin_so\n",
      "mag_density_Ti1Cr1Te6P2_spin_so\n",
      "chgcar_file_ext C:\\Users\\Shaan Desai\\Desktop\\AC299r/Magnetic_Densities\\mag_density_Ti1Cr1Te6P2_spin_so\n",
      "loading pickled file mag_density_Ti1Cr1Te6P2_spin_so\n",
      "mag_density_V1Cr1Ge1Te6P1_spin_so\n",
      "chgcar_file_ext C:\\Users\\Shaan Desai\\Desktop\\AC299r/Magnetic_Densities\\mag_density_V1Cr1Ge1Te6P1_spin_so\n",
      "loading pickled file mag_density_V1Cr1Ge1Te6P1_spin_so\n",
      "mag_density_V1Cr1Ge2Te6_spin_so\n",
      "chgcar_file_ext C:\\Users\\Shaan Desai\\Desktop\\AC299r/Magnetic_Densities\\mag_density_V1Cr1Ge2Te6_spin_so\n",
      "loading pickled file mag_density_V1Cr1Ge2Te6_spin_so\n",
      "mag_density_V1Cr1Si1Te6P1_spin_so\n",
      "chgcar_file_ext C:\\Users\\Shaan Desai\\Desktop\\AC299r/Magnetic_Densities\\mag_density_V1Cr1Si1Te6P1_spin_so\n",
      "loading pickled file mag_density_V1Cr1Si1Te6P1_spin_so\n",
      "mag_density_V1Cr1Si2Te6_spin_so\n",
      "chgcar_file_ext C:\\Users\\Shaan Desai\\Desktop\\AC299r/Magnetic_Densities\\mag_density_V1Cr1Si2Te6_spin_so\n",
      "loading pickled file mag_density_V1Cr1Si2Te6_spin_so\n",
      "mag_density_V1Cr1Te6P2_spin_so\n",
      "chgcar_file_ext C:\\Users\\Shaan Desai\\Desktop\\AC299r/Magnetic_Densities\\mag_density_V1Cr1Te6P2_spin_so\n",
      "loading pickled file mag_density_V1Cr1Te6P2_spin_so\n",
      "mag_density_Y1Cr1Ge2Te6_spin_so\n",
      "chgcar_file_ext C:\\Users\\Shaan Desai\\Desktop\\AC299r/Magnetic_Densities\\mag_density_Y1Cr1Ge2Te6_spin_so\n",
      "loading pickled file mag_density_Y1Cr1Ge2Te6_spin_so\n",
      "mag_density_Y1Cr1Si1Ge1Te6_spin_so\n",
      "chgcar_file_ext C:\\Users\\Shaan Desai\\Desktop\\AC299r/Magnetic_Densities\\mag_density_Y1Cr1Si1Ge1Te6_spin_so\n",
      "loading pickled file mag_density_Y1Cr1Si1Ge1Te6_spin_so\n",
      "mag_density_Y1Cr1Si1Te6P1_spin_so\n",
      "chgcar_file_ext C:\\Users\\Shaan Desai\\Desktop\\AC299r/Magnetic_Densities\\mag_density_Y1Cr1Si1Te6P1_spin_so\n",
      "loading pickled file mag_density_Y1Cr1Si1Te6P1_spin_so\n",
      "mag_density_Y1Cr1Si2Te6_spin_so\n",
      "chgcar_file_ext C:\\Users\\Shaan Desai\\Desktop\\AC299r/Magnetic_Densities\\mag_density_Y1Cr1Si2Te6_spin_so\n",
      "loading pickled file mag_density_Y1Cr1Si2Te6_spin_so\n",
      "mag_density_Y1Cr1Te6P2_spin_so\n",
      "chgcar_file_ext C:\\Users\\Shaan Desai\\Desktop\\AC299r/Magnetic_Densities\\mag_density_Y1Cr1Te6P2_spin_so\n",
      "loading pickled file mag_density_Y1Cr1Te6P2_spin_so\n"
     ]
    }
   ],
   "source": [
    "\n",
    "load_chgcar()"
   ]
  },
  {
   "cell_type": "code",
   "execution_count": 6,
   "metadata": {
    "collapsed": false
   },
   "outputs": [
    {
     "data": {
      "image/png": "[encoded data removed]",
      "text/plain": [
       "<matplotlib.figure.Figure at 0x222d9460160>"
      ]
     },
     "metadata": {},
     "output_type": "display_data"
    }
   ],
   "source": [
    "#Creates list of charge_data nad chgcar files\n",
    "\n",
    "#dst_ext = '/Users/trevorrhone/Documents/Kaxiras/2DML/Spin_density/chg_matrices'\n",
    "dst_ext = os.getcwd()+'/'+'chg_matrices'\n",
    "chg_files = os.listdir(dst_ext)\n",
    "charge_data = []\n",
    "plt.figure(figsize=(7,7))\n",
    "counter = 0\n",
    "slice = 20\n",
    "for fth, chg_file in enumerate(chg_files):\n",
    "    #if fth < 9:\n",
    "    #print(chg_file)\n",
    "    os.chdir(dst_ext)\n",
    "    charge = pickle.load( open( chg_file, \"rb\" ) )\n",
    "    #print(charge.shape)\n",
    "    charge_data.append(charge)\n",
    "    fth_charge = charge[0,:,:,slice]\n",
    "    skip = fth % 4.0\n",
    "    #print(skip, type(skip))\n",
    "\n",
    "    if skip == 0:\n",
    "        if counter < 16:\n",
    "            counter = counter +1\n",
    "            plt.subplot(4,4,counter)\n",
    "            plt.imshow(fth_charge)\n",
    "            title = chg_file[:-8]\n",
    "            title = title[12:]\n",
    "            plt.title(title)\n",
    "# charge_data = np.asmatrix(charge_data)\n",
    "\n",
    "plt.tight_layout(pad=0.58)"
   ]
  },
  {
   "cell_type": "code",
   "execution_count": 7,
   "metadata": {
    "collapsed": false
   },
   "outputs": [
    {
     "data": {
      "text/plain": [
       "array(['Cr1Co1Ge1Te6P1', 'Cr1Co1Ge2Te6', 'Cr1Co1Si1Ge1Te6',\n",
       "       'Cr1Co1Si1Te6P1', 'Cr1Co1Si2Te6'], dtype='<U15')"
      ]
     },
     "execution_count": 7,
     "metadata": {},
     "output_type": "execute_result"
    }
   ],
   "source": [
    "# MATCH chg_files to magnetic moment info.. match file name...\n",
    "formula_chg = np.asarray([x[:-8] for x in chg_files])\n",
    "formula_chg = np.asarray([x[12:] for x in formula_chg])\n",
    "formula_chg[:5]"
   ]
  },
  {
   "cell_type": "code",
   "execution_count": 8,
   "metadata": {
    "collapsed": false
   },
   "outputs": [
    {
     "name": "stdout",
     "output_type": "stream",
     "text": [
      "[35 37 41 16 28 46 48 55 19 21  3 38 45 54 29 26 47  2 24  4 30 27 14  9\n",
      " 42 50 61 53 31 11 10  0 36 51 25  1 39  5 20 56  7  6 32 12 57 13 58 18\n",
      " 49 52 23 59 22 34 17 40 60 33 44 15 43  8]\n"
     ]
    },
    {
     "data": {
      "text/plain": [
       "62"
      ]
     },
     "execution_count": 8,
     "metadata": {},
     "output_type": "execute_result"
    }
   ],
   "source": [
    "sorted_formula = []\n",
    "sorted_charge_data = []\n",
    "sortdex = []\n",
    "for f in df_mag['formula']:\n",
    "    #print(f)\n",
    "    index = np.argwhere(f == np.asarray(formula_chg))\n",
    "    if len(index) !=0: #account for those strucures not present in df_mag\n",
    "        index = index[0][0]\n",
    "        sortdex.append(index)\n",
    "    #print(f, sortdex)\n",
    "sortdex = np.asarray(sortdex)\n",
    "print(sortdex)\n",
    "sorted_charge_data = [charge_data[i] for i in sortdex]\n",
    "sorted_formula = formula_chg[sortdex]\n",
    "\n",
    "len(sorted_formula)"
   ]
  },
  {
   "cell_type": "code",
   "execution_count": 9,
   "metadata": {
    "collapsed": false
   },
   "outputs": [
    {
     "name": "stdout",
     "output_type": "stream",
     "text": [
      "(62, 3)\n"
     ]
    }
   ],
   "source": [
    "# (x1_train, y1_train), (x1_test, y1_test) = mnist.load_data()\n",
    "# x1_train.shape\n",
    "# print(y1_test.shape)\n",
    "# print(y1_test[:15])\n",
    "\n",
    "df_charge = pd.DataFrame()\n",
    "df_charge['formula'] = sorted_formula\n",
    "df_charge['sorted_charge_data'] = sorted_charge_data\n",
    "sorted_mag = df_mag['mag_mom'].values[sortdex]\n",
    "df_charge['mag_mom'] = sorted_mag\n",
    "# df_charge.head()\n",
    "df_charge[['formula','mag_mom']].head()\n",
    "print(df_charge.shape)\n",
    "\n"
   ]
  },
  {
   "cell_type": "code",
   "execution_count": 10,
   "metadata": {
    "collapsed": false
   },
   "outputs": [
    {
     "name": "stdout",
     "output_type": "stream",
     "text": [
      "[WinError 3] The system cannot find the path specified: 'Desktop/AC299r'\n",
      "C:\\Users\\Shaan Desai\\Desktop\\AC299r\n"
     ]
    }
   ],
   "source": [
    "cd Desktop/AC299r"
   ]
  },
  {
   "cell_type": "code",
   "execution_count": 11,
   "metadata": {
    "collapsed": false
   },
   "outputs": [
    {
     "name": "stdout",
     "output_type": "stream",
     "text": [
      "C:\\Users\\Shaan Desai\n"
     ]
    }
   ],
   "source": [
    "cd"
   ]
  },
  {
   "cell_type": "code",
   "execution_count": 12,
   "metadata": {
    "collapsed": false
   },
   "outputs": [
    {
     "name": "stdout",
     "output_type": "stream",
     "text": [
      "C:\\Users\\Shaan Desai\\Desktop\n"
     ]
    }
   ],
   "source": [
    "cd Desktop\n"
   ]
  },
  {
   "cell_type": "code",
   "execution_count": 13,
   "metadata": {
    "collapsed": false
   },
   "outputs": [
    {
     "name": "stdout",
     "output_type": "stream",
     "text": [
      "C:\\Users\\Shaan Desai\\Desktop\\AC299R\n"
     ]
    }
   ],
   "source": [
    "cd AC299R"
   ]
  },
  {
   "cell_type": "code",
   "execution_count": 14,
   "metadata": {
    "collapsed": true
   },
   "outputs": [],
   "source": [
    "#save dataframe\n",
    "df_charge.to_pickle('chgdf_input')"
   ]
  },
  {
   "cell_type": "code",
   "execution_count": null,
   "metadata": {
    "collapsed": true
   },
   "outputs": [],
   "source": []
  }
 ],
 "metadata": {
  "kernelspec": {
   "display_name": "Python 3",
   "language": "python",
   "name": "python3"
  },
  "language_info": {
   "codemirror_mode": {
    "name": "ipython",
    "version": 3
   },
   "file_extension": ".py",
   "mimetype": "text/x-python",
   "name": "python",
   "nbconvert_exporter": "python",
   "pygments_lexer": "ipython3",
   "version": "3.6.4"
  }
 },
 "nbformat": 4,
 "nbformat_minor": 2
}
