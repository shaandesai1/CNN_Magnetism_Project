{
 "cells": [
  {
   "cell_type": "code",
   "execution_count": 10,
   "metadata": {
    "collapsed": false
   },
   "outputs": [
    {
     "name": "stdout",
     "output_type": "stream",
     "text": [
      "1\n"
     ]
    }
   ],
   "source": [
    "import shutil\n",
    "import os\n",
    "\n",
    "cwd = os.getcwd()\n",
    "# cwd = '/Users/Shaan Desai/Desktop/Test'\n",
    "dirs =os.listdir(cwd)\n",
    "dirs = [x for x in dirs if'.' not in x]\n",
    "\n",
    "# spinlabels = ['spin_so','spin','afm']\n",
    "spinlabels = ['spin_so']\n",
    "\n",
    "\n",
    "for i in range(len(spinlabels)):\n",
    "    dest_dir = cwd + '/' + spinlabels[i] +'_CHGCAR_files'+'/'\n",
    "    if not os.path.exists(dest_dir):\n",
    "        os.mkdir(dest_dir)\n",
    "    for f in dirs:\n",
    "        src_file = cwd +'/' + f + '/' + spinlabels[i] + '/CHGCAR'\n",
    "        if os.path.exists(src_file):\n",
    "            shutil.copy(src_file,dest_dir)\n",
    "            new_name = f + '_' + spinlabels[i]\n",
    "            os.rename(dest_dir+'CHGCAR',dest_dir+new_name)\n",
    "          \n",
    "        "
   ]
  }
 ],
 "metadata": {
  "kernelspec": {
   "display_name": "Python 3",
   "language": "python",
   "name": "python3"
  },
  "language_info": {
   "codemirror_mode": {
    "name": "ipython",
    "version": 3
   },
   "file_extension": ".py",
   "mimetype": "text/x-python",
   "name": "python",
   "nbconvert_exporter": "python",
   "pygments_lexer": "ipython3",
   "version": "3.6.4"
  }
 },
 "nbformat": 4,
 "nbformat_minor": 2
}
