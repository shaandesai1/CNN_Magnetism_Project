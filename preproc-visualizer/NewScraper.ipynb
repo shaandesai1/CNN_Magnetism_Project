{
 "cells": [
  {
   "cell_type": "code",
   "execution_count": 7,
   "metadata": {
    "collapsed": true
   },
   "outputs": [],
   "source": [
    "# import libraries\n",
    "import numpy as np\n",
    "import pickle\n",
    "import os\n",
    "import pandas as pd\n",
    "import matplotlib.pyplot as plt \n",
    "import tqdm"
   ]
  },
  {
   "cell_type": "code",
   "execution_count": 8,
   "metadata": {
    "collapsed": false
   },
   "outputs": [
    {
     "name": "stdout",
     "output_type": "stream",
     "text": [
      "0 c\n",
      "1 h\n",
      "2 g\n",
      "3 _\n"
     ]
    }
   ],
   "source": [
    "for i,j in enumerate(chgnames):\n",
    "    print(i,j[i])"
   ]
  },
  {
   "cell_type": "code",
   "execution_count": 16,
   "metadata": {
    "collapsed": false
   },
   "outputs": [],
   "source": [
    "#Creates list of charge_data nad chgcar files\n",
    "chgnames = ['chg_matrices_afm_s','chg_matrices_afm_te','chg_matrices_fm_s','chg_matrices_fm_te']\n",
    "charge_data = []\n",
    "charge_class = []\n",
    "for i,name in enumerate(chgnames): \n",
    "    dst_ext = \"C:/Users/Shaan Desai/Desktop/AC299r\" + \"/\" + name\n",
    "    chg_files = os.listdir(dst_ext)\n",
    "    for fth, chg_file in enumerate(chg_files):\n",
    "        os.chdir(dst_ext)\n",
    "        charge = pickle.load( open( chg_file, \"rb\" ) )\n",
    "        charge_data.append(charge)\n",
    "        if (i==0) or(i==1):\n",
    "            charge_class.append(0)\n",
    "        else:\n",
    "            charge_class.append(1)\n",
    "            "
   ]
  },
  {
   "cell_type": "code",
   "execution_count": 17,
   "metadata": {
    "collapsed": true
   },
   "outputs": [],
   "source": [
    "df_new = pd.DataFrame()\n",
    "df_new['charge_data'] = charge_data\n",
    "df_new['charge_class'] = charge_class"
   ]
  },
  {
   "cell_type": "code",
   "execution_count": 20,
   "metadata": {
    "collapsed": false
   },
   "outputs": [
    {
     "data": {
      "text/plain": [
       "(250, 2)"
      ]
     },
     "execution_count": 20,
     "metadata": {},
     "output_type": "execute_result"
    }
   ],
   "source": [
    "df_new.shape"
   ]
  },
  {
   "cell_type": "code",
   "execution_count": 21,
   "metadata": {
    "collapsed": false
   },
   "outputs": [
    {
     "name": "stdout",
     "output_type": "stream",
     "text": [
      "C:\\Users\\Shaan Desai\n"
     ]
    }
   ],
   "source": [
    "cd"
   ]
  },
  {
   "cell_type": "code",
   "execution_count": 22,
   "metadata": {
    "collapsed": false
   },
   "outputs": [
    {
     "name": "stdout",
     "output_type": "stream",
     "text": [
      "C:\\Users\\Shaan Desai\\Desktop\n"
     ]
    }
   ],
   "source": [
    "cd Desktop\n"
   ]
  },
  {
   "cell_type": "code",
   "execution_count": 23,
   "metadata": {
    "collapsed": false
   },
   "outputs": [
    {
     "name": "stdout",
     "output_type": "stream",
     "text": [
      "C:\\Users\\Shaan Desai\\Desktop\\AC299R\n"
     ]
    }
   ],
   "source": [
    "cd AC299R"
   ]
  },
  {
   "cell_type": "code",
   "execution_count": 24,
   "metadata": {
    "collapsed": true
   },
   "outputs": [],
   "source": [
    "df_new.to_pickle('chgdf_new_input')"
   ]
  },
  {
   "cell_type": "code",
   "execution_count": null,
   "metadata": {
    "collapsed": true
   },
   "outputs": [],
   "source": []
  }
 ],
 "metadata": {
  "kernelspec": {
   "display_name": "Python 3",
   "language": "python",
   "name": "python3"
  },
  "language_info": {
   "codemirror_mode": {
    "name": "ipython",
    "version": 3
   },
   "file_extension": ".py",
   "mimetype": "text/x-python",
   "name": "python",
   "nbconvert_exporter": "python",
   "pygments_lexer": "ipython3",
   "version": "3.6.4"
  }
 },
 "nbformat": 4,
 "nbformat_minor": 2
}
